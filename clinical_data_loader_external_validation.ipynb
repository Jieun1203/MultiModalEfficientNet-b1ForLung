{
 "cells": [
  {
   "cell_type": "code",
   "execution_count": 1,
   "metadata": {},
   "outputs": [],
   "source": [
    "import os\n",
    "from torch.utils.data.dataset import Dataset\n",
    "from torchvision import transforms\n",
    "import pandas as pd\n",
    "from PIL import Image\n",
    "import torch\n",
    "import numpy as np"
   ]
  },
  {
   "cell_type": "code",
   "execution_count": 2,
   "metadata": {},
   "outputs": [],
   "source": [
    "def read_data(fn, df):\n",
    "    img = Image.open(fn)\n",
    "    \n",
    "    folders = fn.split('/')\n",
    "    img_name = folders[-1]\n",
    "    \n",
    "    \n",
    "    p_number = img_name.split('.')[0] \n",
    "    \n",
    "    try:\n",
    "        p_number = p_number.split('_')[1]\n",
    "    except:\n",
    "        pass\n",
    "\n",
    "    p_number = int(p_number)\n",
    "        \n",
    "    p_info = df['number'] == p_number\n",
    "    label = df[p_info]['EGFR']\n",
    "    label = label.values[0]\n",
    "    sex = df[p_info]['Sex']\n",
    "    sex = sex.values[0]\n",
    "    age = df[p_info]['Age_norm']\n",
    "    age = age.values[0]\n",
    "    smoke = df[p_info]['Smoking']\n",
    "    smoke = smoke.values[0]\n",
    "\n",
    "        \n",
    "    return img, label, sex, age, smoke, p_number"
   ]
  },
  {
   "cell_type": "code",
   "execution_count": 3,
   "metadata": {},
   "outputs": [],
   "source": [
    "class ImageDataset(Dataset):\n",
    "    def __init__(self, root, clinical_root, mode, transform=None):\n",
    "        super(ImageDataset, self).__init__()\n",
    "        \n",
    "        img_list = os.listdir(root)\n",
    "        filenames = [i for i in img_list if 'png' in i]\n",
    "\n",
    "                    \n",
    "        if mode == 'val':\n",
    "            df = pd.read_excel(clinical_root, sheet_name = 'val')\n",
    "\n",
    "        else:\n",
    "            df = pd.read_excel(clinical_root, sheet_name = 'Training')\n",
    "\n",
    "        \n",
    "        self.clinical_root = clinical_root\n",
    "        self.filenames = filenames\n",
    "        self.root = root\n",
    "        self.transform = transform\n",
    "        self.df = df\n",
    "        \n",
    "    def __len__(self):\n",
    "        return len(self.filenames)\n",
    "    \n",
    "    \n",
    "    def __getitem__(self, index):\n",
    "        img, label, sex, age, smoke, p_number = read_data(os.path.join(self.root, self.filenames[index]), self.df)\n",
    "        \n",
    "        if self.transform:\n",
    "            img = self.transform(img)\n",
    "        if label == 0:\n",
    "            target = torch.tensor([1, 0])\n",
    "        else:\n",
    "            target = torch.tensor([0, 1])\n",
    "\n",
    "        clinical_np = np.array([sex, age, smoke], dtype=np.float32)\n",
    "        clinical = torch.from_numpy(clinical_np)        \n",
    "\n",
    "            \n",
    "        return img, target, clinical, p_number"
   ]
  },
  {
   "cell_type": "code",
   "execution_count": null,
   "metadata": {},
   "outputs": [],
   "source": []
  },
  {
   "cell_type": "code",
   "execution_count": null,
   "metadata": {},
   "outputs": [],
   "source": []
  },
  {
   "cell_type": "code",
   "execution_count": null,
   "metadata": {},
   "outputs": [],
   "source": []
  },
  {
   "cell_type": "code",
   "execution_count": null,
   "metadata": {},
   "outputs": [],
   "source": []
  }
 ],
 "metadata": {
  "kernelspec": {
   "display_name": "Python 3",
   "language": "python",
   "name": "python3"
  },
  "language_info": {
   "codemirror_mode": {
    "name": "ipython",
    "version": 3
   },
   "file_extension": ".py",
   "mimetype": "text/x-python",
   "name": "python",
   "nbconvert_exporter": "python",
   "pygments_lexer": "ipython3",
   "version": "3.7.10"
  }
 },
 "nbformat": 4,
 "nbformat_minor": 2
}
