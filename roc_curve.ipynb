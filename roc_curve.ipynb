{
 "cells": [
  {
   "cell_type": "code",
   "execution_count": 1,
   "id": "dress-columbus",
   "metadata": {},
   "outputs": [],
   "source": [
    "import os\n",
    "import numpy as np\n",
    "from PIL import Image\n",
    "import matplotlib.pyplot as plt\n",
    "import pandas as pd\n",
    "from sklearn.metrics import roc_auc_score, roc_curve, auc, confusion_matrix, auc"
   ]
  },
  {
   "cell_type": "code",
   "execution_count": 2,
   "id": "velvet-candle",
   "metadata": {},
   "outputs": [],
   "source": [
    "dl_clinical_root = '/home/SMC_data_2101xx_EGFR_deeplearning/EGFR_deep_learning/3ch_img_minmax/result/final'\n",
    "dl_img_root = '/home/SMC_data_2101xx_EGFR_deeplearning/EGFR_deep_learning/3ch_img_minmax/result/Only_img_0.81'\n",
    "clinical_root= '/home/SMC_data_2101xx_EGFR_deeplearning/EGFR_deep_learning/3ch_img_minmax/result/radiomic/clinical_rf'\n",
    "radiomic_rf_root = '/home/SMC_data_2101xx_EGFR_deeplearning/EGFR_deep_learning/radiomics/210619_SH/result'"
   ]
  },
  {
   "cell_type": "code",
   "execution_count": 3,
   "id": "living-production",
   "metadata": {},
   "outputs": [],
   "source": [
    "save_root = '/home/SMC_data_2101xx_EGFR_deeplearning/EGFR_deep_learning/3ch_img_minmax/result/final'"
   ]
  },
  {
   "cell_type": "code",
   "execution_count": 4,
   "id": "assigned-airline",
   "metadata": {},
   "outputs": [],
   "source": [
    "dl_label_df = pd.read_csv(os.path.join(dl_clinical_root, 'deep_learning_output_test.csv'))\n",
    "dl_label = dl_label_df['real label'].to_numpy()\n",
    "dl_prob_df = pd.read_csv(os.path.join(dl_clinical_root, 'deep_learning_prob_test.csv'))\n",
    "dl_prob = dl_prob_df.to_numpy()"
   ]
  },
  {
   "cell_type": "code",
   "execution_count": 5,
   "id": "ethical-still",
   "metadata": {},
   "outputs": [],
   "source": [
    "img_label_df = pd.read_csv(os.path.join(dl_img_root, 'deep_learning_output_test.csv'))\n",
    "img_label = img_label_df['real label'].to_numpy()\n",
    "img_prob_df = pd.read_csv(os.path.join(dl_img_root, 'deep_learning_prob_test.csv'))\n",
    "img_prob = img_prob_df.to_numpy()"
   ]
  },
  {
   "cell_type": "code",
   "execution_count": 6,
   "id": "preliminary-gambling",
   "metadata": {},
   "outputs": [],
   "source": [
    "clinical_label_df = pd.read_csv(os.path.join(clinical_root, 'test_output.csv'))\n",
    "clinical_label = clinical_label_df['real'].to_numpy()\n",
    "clinical_prob_df = pd.read_csv(os.path.join(clinical_root, 'test_prob.csv'))\n",
    "clinical_prob = clinical_prob_df[['label0', 'label1']].to_numpy()"
   ]
  },
  {
   "cell_type": "code",
   "execution_count": 7,
   "id": "native-surveillance",
   "metadata": {},
   "outputs": [],
   "source": [
    "rf_label_df = pd.read_csv(os.path.join(radiomic_rf_root, 'test_output.csv'))\n",
    "rf_label = rf_label_df['real'].to_numpy()\n",
    "rf_prob_df = pd.read_csv(os.path.join(radiomic_rf_root, 'test_prob.csv'))\n",
    "rf_prob = rf_prob_df[['label0', 'label1']].to_numpy()"
   ]
  },
  {
   "cell_type": "code",
   "execution_count": 8,
   "id": "micro-event",
   "metadata": {},
   "outputs": [],
   "source": [
    "fpr1, tpr1, threshold1 = roc_curve(dl_label.reshape(37, ), dl_prob[:,0], pos_label = 0)\n",
    "roc_auc1 = auc(fpr1, tpr1)\n",
    "auc_score1 = roc_auc_score(dl_label, dl_prob[:, 1])"
   ]
  },
  {
   "cell_type": "code",
   "execution_count": 9,
   "id": "integrated-bones",
   "metadata": {},
   "outputs": [
    {
     "data": {
      "text/plain": [
       "array([0., 0., 1., 1., 0., 0., 1., 1., 1., 1., 1., 0., 0., 1., 1., 1., 1.,\n",
       "       0., 0., 0., 1., 1., 1., 1., 1., 1., 1., 0., 1., 1., 1., 1., 0., 1.,\n",
       "       1., 0., 1.])"
      ]
     },
     "execution_count": 9,
     "metadata": {},
     "output_type": "execute_result"
    }
   ],
   "source": [
    "dl_label"
   ]
  },
  {
   "cell_type": "code",
   "execution_count": 10,
   "id": "dedicated-attempt",
   "metadata": {},
   "outputs": [
    {
     "data": {
      "text/plain": [
       "0.8533333333333334"
      ]
     },
     "execution_count": 10,
     "metadata": {},
     "output_type": "execute_result"
    }
   ],
   "source": [
    "roc_auc1"
   ]
  },
  {
   "cell_type": "code",
   "execution_count": 11,
   "id": "brown-honolulu",
   "metadata": {},
   "outputs": [
    {
     "data": {
      "text/plain": [
       "0.8533333333333333"
      ]
     },
     "execution_count": 11,
     "metadata": {},
     "output_type": "execute_result"
    }
   ],
   "source": [
    "auc_score1"
   ]
  },
  {
   "cell_type": "code",
   "execution_count": 12,
   "id": "jewish-fruit",
   "metadata": {},
   "outputs": [],
   "source": [
    "fpr2, tpr2, threshold2 = roc_curve(clinical_label.reshape(36, ), clinical_prob[:,0], pos_label = 0)\n",
    "roc_auc2 = auc(fpr2, tpr2)\n",
    "auc_score2 = roc_auc_score(clinical_label, clinical_prob[:, 1])"
   ]
  },
  {
   "cell_type": "code",
   "execution_count": 13,
   "id": "musical-dryer",
   "metadata": {},
   "outputs": [
    {
     "data": {
      "text/plain": [
       "0.5"
      ]
     },
     "execution_count": 13,
     "metadata": {},
     "output_type": "execute_result"
    }
   ],
   "source": [
    "roc_auc2"
   ]
  },
  {
   "cell_type": "code",
   "execution_count": 14,
   "id": "published-spoke",
   "metadata": {},
   "outputs": [
    {
     "data": {
      "text/plain": [
       "0.5"
      ]
     },
     "execution_count": 14,
     "metadata": {},
     "output_type": "execute_result"
    }
   ],
   "source": [
    "auc_score2"
   ]
  },
  {
   "cell_type": "code",
   "execution_count": 15,
   "id": "verified-processor",
   "metadata": {},
   "outputs": [],
   "source": [
    "fpr3, tpr3, threshold3 = roc_curve(rf_label.reshape(36, ), rf_prob[:,0], pos_label = 0)\n",
    "roc_auc3 = auc(fpr3, tpr3)\n",
    "auc_score3 = roc_auc_score(rf_label, rf_prob[:, 1])"
   ]
  },
  {
   "cell_type": "code",
   "execution_count": 16,
   "id": "photographic-remove",
   "metadata": {},
   "outputs": [
    {
     "data": {
      "text/plain": [
       "0.5329861111111112"
      ]
     },
     "execution_count": 16,
     "metadata": {},
     "output_type": "execute_result"
    }
   ],
   "source": [
    "roc_auc3"
   ]
  },
  {
   "cell_type": "code",
   "execution_count": 17,
   "id": "center-procurement",
   "metadata": {},
   "outputs": [
    {
     "data": {
      "text/plain": [
       "0.5329861111111112"
      ]
     },
     "execution_count": 17,
     "metadata": {},
     "output_type": "execute_result"
    }
   ],
   "source": [
    "auc_score3"
   ]
  },
  {
   "cell_type": "code",
   "execution_count": 18,
   "id": "clinical-penetration",
   "metadata": {},
   "outputs": [],
   "source": [
    "fpr4, tpr4, threshold4 = roc_curve(img_label.reshape(37, ), img_prob[:,0], pos_label = 0)\n",
    "roc_auc4 = auc(fpr4, tpr4)\n",
    "auc_score4 = roc_auc_score(img_label, img_prob[:, 1])"
   ]
  },
  {
   "cell_type": "code",
   "execution_count": 19,
   "id": "curious-munich",
   "metadata": {},
   "outputs": [
    {
     "data": {
      "text/plain": [
       "0.8066666666666666"
      ]
     },
     "execution_count": 19,
     "metadata": {},
     "output_type": "execute_result"
    }
   ],
   "source": [
    "roc_auc4"
   ]
  },
  {
   "cell_type": "code",
   "execution_count": 20,
   "id": "answering-papua",
   "metadata": {},
   "outputs": [
    {
     "data": {
      "text/plain": [
       "0.8066666666666668"
      ]
     },
     "execution_count": 20,
     "metadata": {},
     "output_type": "execute_result"
    }
   ],
   "source": [
    "auc_score4"
   ]
  },
  {
   "cell_type": "code",
   "execution_count": 21,
   "id": "satisfied-oakland",
   "metadata": {},
   "outputs": [
    {
     "data": {
      "image/png": "[encoded data removed]",
      "text/plain": [
       "<Figure size 864x720 with 1 Axes>"
      ]
     },
     "metadata": {
      "needs_background": "light"
     },
     "output_type": "display_data"
    }
   ],
   "source": [
    "plt.plot(fpr1,tpr1, color = 'red', label='Deep learning with clinical (AUC : {:.2f})'.format(roc_auc1))\n",
    "plt.plot(fpr4,tpr4, color = 'navy', label='Deep learning (AUC : {:.2f})'.format(roc_auc4))\n",
    "plt.plot(fpr3,tpr3, color = 'green', label='radiomic with random forest (AUC : {:.2f})'.format(roc_auc3))\n",
    "plt.plot(fpr2,tpr2, color = 'chocolate', label='clinical with random forest (AUC : {:.2f})'.format(roc_auc2))\n",
    "\n",
    "plt.plot([0, 1], [0, 1], color='black', linestyle='--')\n",
    "plt.xlim([-0.005, 1.0])\n",
    "plt.ylim([0.0, 1.005])\n",
    "plt.xlabel('False Positive Rate', fontsize = 15)\n",
    "plt.ylabel('True Positive Rate', fontsize = 15)\n",
    "plt.title('Receiver operating characteristic', fontsize = 15)\n",
    "plt.legend(fontsize = 12, loc='lower right')\n",
    "fig = plt.gcf()\n",
    "fig.set_size_inches(12, 10)\n",
    "fig.savefig(save_root + '/roc_curve_final.png', dpi = fig.dpi)\n",
    "plt.show()"
   ]
  },
  {
   "cell_type": "code",
   "execution_count": null,
   "id": "distinguished-tooth",
   "metadata": {},
   "outputs": [],
   "source": []
  },
  {
   "cell_type": "code",
   "execution_count": null,
   "id": "recent-series",
   "metadata": {},
   "outputs": [],
   "source": []
  },
  {
   "cell_type": "code",
   "execution_count": null,
   "id": "helpful-tribe",
   "metadata": {},
   "outputs": [],
   "source": []
  }
 ],
 "metadata": {
  "kernelspec": {
   "display_name": "Python 3",
   "language": "python",
   "name": "python3"
  },
  "language_info": {
   "codemirror_mode": {
    "name": "ipython",
    "version": 3
   },
   "file_extension": ".py",
   "mimetype": "text/x-python",
   "name": "python",
   "nbconvert_exporter": "python",
   "pygments_lexer": "ipython3",
   "version": "3.7.10"
  }
 },
 "nbformat": 4,
 "nbformat_minor": 5
}
