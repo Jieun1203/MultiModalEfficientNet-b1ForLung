{
 "cells": [
  {
   "cell_type": "code",
   "execution_count": 1,
   "id": "frequent-number",
   "metadata": {},
   "outputs": [],
   "source": [
    "import numpy as np\n",
    "import pandas as pd\n",
    "import os\n",
    "from statsmodels.stats.multicomp import pairwise_tukeyhsd\n",
    "from statsmodels.formula.api import ols\n",
    "from statsmodels.stats.anova import anova_lm\n",
    "from scipy.stats import f_oneway, chi2_contingency"
   ]
  },
  {
   "cell_type": "code",
   "execution_count": 2,
   "id": "portuguese-sound",
   "metadata": {},
   "outputs": [],
   "source": [
    "excel = '/home/SMC_data_2101xx_EGFR_deeplearning/EGFR_deep_learning/3ch_img_minmax/result/final_patient_index.xlsx'"
   ]
  },
  {
   "cell_type": "code",
   "execution_count": 3,
   "id": "wanted-gasoline",
   "metadata": {},
   "outputs": [],
   "source": [
    "train = pd.read_excel(excel, sheet_name  = 'train')\n",
    "val = pd.read_excel(excel, sheet_name  = 'val')\n",
    "test = pd.read_excel(excel, sheet_name  = 'test')"
   ]
  },
  {
   "cell_type": "code",
   "execution_count": 4,
   "id": "mechanical-pierre",
   "metadata": {},
   "outputs": [],
   "source": [
    "ex_test_excel = '/home/SMC_data_2101xx_EGFR_deeplearning/EGFR_deep_learning/external_validationset/external_test/GGN_TKI_demo.xlsx'"
   ]
  },
  {
   "cell_type": "code",
   "execution_count": 5,
   "id": "adaptive-postage",
   "metadata": {},
   "outputs": [],
   "source": [
    "ex_val_excel = '/home/SMC_data_2101xx_EGFR_deeplearning/EGFR_deep_learning/external_validationset/external_validation/external_validation_clinical.xlsx'"
   ]
  },
  {
   "cell_type": "code",
   "execution_count": 6,
   "id": "recorded-capability",
   "metadata": {},
   "outputs": [],
   "source": [
    "ex_test = pd.read_excel(ex_test_excel)\n",
    "ex_val = pd.read_excel(ex_val_excel)"
   ]
  },
  {
   "cell_type": "markdown",
   "id": "mobile-election",
   "metadata": {},
   "source": [
    "## AGE f_oneway test"
   ]
  },
  {
   "cell_type": "code",
   "execution_count": 7,
   "id": "special-intent",
   "metadata": {},
   "outputs": [],
   "source": [
    "train_age = train['Age'].to_numpy()\n",
    "val_age = val['Age'].to_numpy()\n",
    "test_age = test['Age'].to_numpy()"
   ]
  },
  {
   "cell_type": "code",
   "execution_count": 8,
   "id": "worth-wrestling",
   "metadata": {},
   "outputs": [],
   "source": [
    "ex_test_age = ex_test['Age'].to_numpy()\n",
    "ex_val_age = ex_val['Age'].to_numpy()"
   ]
  },
  {
   "cell_type": "code",
   "execution_count": 9,
   "id": "received-conspiracy",
   "metadata": {},
   "outputs": [],
   "source": [
    "test_age = np.append(test_age, ex_val_age)"
   ]
  },
  {
   "cell_type": "code",
   "execution_count": 10,
   "id": "double-traffic",
   "metadata": {},
   "outputs": [
    {
     "data": {
      "text/plain": [
       "(46,)"
      ]
     },
     "execution_count": 10,
     "metadata": {},
     "output_type": "execute_result"
    }
   ],
   "source": [
    "test_age.shape"
   ]
  },
  {
   "cell_type": "code",
   "execution_count": 11,
   "id": "hourly-council",
   "metadata": {},
   "outputs": [],
   "source": [
    "age_labels = ['train']*len(train_age) + ['val']*len(val_age) + ['test']*len(test_age) + ['ex_test']*len(ex_test_age)"
   ]
  },
  {
   "cell_type": "code",
   "execution_count": 12,
   "id": "lucky-employment",
   "metadata": {},
   "outputs": [],
   "source": [
    "train_mean = np.mean(train_age)\n",
    "train_std = np.std(train_age)\n",
    "val_mean = np.mean(val_age)\n",
    "val_std = np.std(val_age)\n",
    "test_mean = np.mean(test_age)\n",
    "test_std = np.std(test_age)\n",
    "ex_test_mean = np.mean(ex_test_age)\n",
    "ex_test_std = np.std(ex_test_age)"
   ]
  },
  {
   "cell_type": "code",
   "execution_count": 13,
   "id": "local-composition",
   "metadata": {},
   "outputs": [
    {
     "name": "stdout",
     "output_type": "stream",
     "text": [
      "train mean 58.775\n",
      "train std 8.676080624337235\n",
      "val mean 58.608695652173914\n",
      "val std 8.590890678300058\n",
      "test mean 57.82608695652174\n",
      "test std 7.794380215832449\n",
      "ex test mean 58.03125\n",
      "ex test std 9.45874058411055\n"
     ]
    }
   ],
   "source": [
    "print('train mean', train_mean)\n",
    "print('train std', train_std)\n",
    "print('val mean', val_mean)\n",
    "print('val std', val_std)\n",
    "print('test mean', test_mean)\n",
    "print('test std', test_std)\n",
    "print('ex test mean', ex_test_mean)\n",
    "print('ex test std', ex_test_std)"
   ]
  },
  {
   "cell_type": "code",
   "execution_count": 14,
   "id": "adolescent-charm",
   "metadata": {},
   "outputs": [],
   "source": [
    "age = np.concatenate([train_age, val_age, test_age, ex_test_age])"
   ]
  },
  {
   "cell_type": "code",
   "execution_count": 15,
   "id": "growing-taxation",
   "metadata": {},
   "outputs": [],
   "source": [
    "tukey_results_age = pairwise_tukeyhsd(age, age_labels, 0.05)"
   ]
  },
  {
   "cell_type": "code",
   "execution_count": 16,
   "id": "duplicate-uncertainty",
   "metadata": {},
   "outputs": [
    {
     "name": "stdout",
     "output_type": "stream",
     "text": [
      "Multiple Comparison of Means - Tukey HSD, FWER=0.05\n",
      "===================================================\n",
      " group1 group2 meandiff p-adj  lower  upper  reject\n",
      "---------------------------------------------------\n",
      "ex_test   test  -0.2052   0.9 -4.6014 4.1911  False\n",
      "ex_test  train   0.7437   0.9 -2.7766 4.2641  False\n",
      "ex_test    val   0.5774   0.9 -4.9517 6.1066  False\n",
      "   test  train   0.9489   0.9 -2.9951 4.8929  False\n",
      "   test    val   0.7826   0.9 -5.0255 6.5907  False\n",
      "  train    val  -0.1663   0.9 -5.3432 5.0105  False\n",
      "---------------------------------------------------\n"
     ]
    }
   ],
   "source": [
    "print(tukey_results_age)"
   ]
  },
  {
   "cell_type": "code",
   "execution_count": 17,
   "id": "canadian-legislature",
   "metadata": {},
   "outputs": [],
   "source": [
    "age_test = f_oneway(train_age, val_age, test_age, ex_test_age, ex_val_age)"
   ]
  },
  {
   "cell_type": "code",
   "execution_count": 18,
   "id": "industrial-projector",
   "metadata": {
    "scrolled": true
   },
   "outputs": [
    {
     "name": "stdout",
     "output_type": "stream",
     "text": [
      "AGE f_oneway test :  F_onewayResult(statistic=0.18977830970312257, pvalue=0.9436078289125895)\n"
     ]
    }
   ],
   "source": [
    "print('AGE f_oneway test : ', age_test)"
   ]
  },
  {
   "cell_type": "markdown",
   "id": "native-tuition",
   "metadata": {},
   "source": [
    "## SEX chi2_contigency test"
   ]
  },
  {
   "cell_type": "code",
   "execution_count": 19,
   "id": "industrial-couple",
   "metadata": {},
   "outputs": [],
   "source": [
    "train_sex = train['Sex'].to_numpy()\n",
    "val_sex = val['Sex'].to_numpy()\n",
    "test_sex = test['Sex'].to_numpy()"
   ]
  },
  {
   "cell_type": "code",
   "execution_count": 20,
   "id": "running-knight",
   "metadata": {},
   "outputs": [],
   "source": [
    "ex_test_sex = ex_test['Sex'].to_numpy()\n",
    "ex_val_sex = ex_val['Sex'].to_numpy()"
   ]
  },
  {
   "cell_type": "code",
   "execution_count": 21,
   "id": "recognized-yellow",
   "metadata": {},
   "outputs": [],
   "source": [
    "test_sex = np.append(test_sex, ex_val_sex)"
   ]
  },
  {
   "cell_type": "code",
   "execution_count": 22,
   "id": "removable-seattle",
   "metadata": {},
   "outputs": [],
   "source": [
    "train_f = len(np.where(train_sex == 0)[0])\n",
    "train_m = len(np.where(train_sex == 1)[0])\n",
    "train_sex_table = np.array([train_f, train_m]).reshape(1, 2)"
   ]
  },
  {
   "cell_type": "code",
   "execution_count": 23,
   "id": "focused-chassis",
   "metadata": {},
   "outputs": [],
   "source": [
    "val_f = len(np.where(val_sex == 0)[0])\n",
    "val_m = len(np.where(val_sex == 1)[0])\n",
    "val_sex_table = np.array([val_f, val_m]).reshape(1, 2)"
   ]
  },
  {
   "cell_type": "code",
   "execution_count": 24,
   "id": "subject-microphone",
   "metadata": {},
   "outputs": [],
   "source": [
    "test_f = len(np.where(test_sex == 0)[0])\n",
    "test_m = len(np.where(test_sex == 1)[0])\n",
    "test_sex_table = np.array([test_f, test_m]).reshape(1, 2)"
   ]
  },
  {
   "cell_type": "code",
   "execution_count": 25,
   "id": "alleged-compact",
   "metadata": {},
   "outputs": [],
   "source": [
    "ex_test_f = len(np.where(ex_test_sex == 0)[0])\n",
    "ex_test_m = len(np.where(ex_test_sex == 1)[0])\n",
    "ex_test_sex_table = np.array([ex_test_f, ex_test_m]).reshape(1, 2)"
   ]
  },
  {
   "cell_type": "code",
   "execution_count": 28,
   "id": "complicated-validity",
   "metadata": {},
   "outputs": [
    {
     "data": {
      "text/plain": [
       "25"
      ]
     },
     "execution_count": 28,
     "metadata": {},
     "output_type": "execute_result"
    }
   ],
   "source": [
    "test_f"
   ]
  },
  {
   "cell_type": "code",
   "execution_count": 29,
   "id": "circular-companion",
   "metadata": {},
   "outputs": [
    {
     "data": {
      "text/plain": [
       "21"
      ]
     },
     "execution_count": 29,
     "metadata": {},
     "output_type": "execute_result"
    }
   ],
   "source": [
    "test_m"
   ]
  },
  {
   "cell_type": "code",
   "execution_count": 26,
   "id": "owned-departure",
   "metadata": {},
   "outputs": [
    {
     "data": {
      "text/plain": [
       "41"
      ]
     },
     "execution_count": 26,
     "metadata": {},
     "output_type": "execute_result"
    }
   ],
   "source": [
    "ex_test_f"
   ]
  },
  {
   "cell_type": "code",
   "execution_count": 27,
   "id": "everyday-taiwan",
   "metadata": {},
   "outputs": [
    {
     "data": {
      "text/plain": [
       "23"
      ]
     },
     "execution_count": 27,
     "metadata": {},
     "output_type": "execute_result"
    }
   ],
   "source": [
    "ex_test_m"
   ]
  },
  {
   "cell_type": "code",
   "execution_count": 30,
   "id": "adequate-soccer",
   "metadata": {},
   "outputs": [],
   "source": [
    "sex_table = np.concatenate([train_sex_table, val_sex_table, test_sex_table, ex_test_sex_table])"
   ]
  },
  {
   "cell_type": "code",
   "execution_count": 31,
   "id": "civic-invention",
   "metadata": {},
   "outputs": [
    {
     "data": {
      "text/plain": [
       "array([[69, 51],\n",
       "       [16,  7],\n",
       "       [25, 21],\n",
       "       [41, 23]])"
      ]
     },
     "execution_count": 31,
     "metadata": {},
     "output_type": "execute_result"
    }
   ],
   "source": [
    "sex_table"
   ]
  },
  {
   "cell_type": "code",
   "execution_count": 32,
   "id": "junior-atmosphere",
   "metadata": {},
   "outputs": [],
   "source": [
    "g, p, dof, expctd = chi2_contingency(sex_table, lambda_=\"log-likelihood\")"
   ]
  },
  {
   "cell_type": "code",
   "execution_count": 33,
   "id": "sought-xerox",
   "metadata": {},
   "outputs": [
    {
     "name": "stdout",
     "output_type": "stream",
     "text": [
      "SEX chi2_contigency test :  0.5207714036324778\n"
     ]
    }
   ],
   "source": [
    "print('SEX chi2_contigency test : ', p)"
   ]
  },
  {
   "cell_type": "markdown",
   "id": "thrown-roads",
   "metadata": {},
   "source": [
    "## SMOKE chi2_contigency test"
   ]
  },
  {
   "cell_type": "code",
   "execution_count": 34,
   "id": "biological-florist",
   "metadata": {},
   "outputs": [],
   "source": [
    "train_smoke = train['Smoking'].to_numpy()\n",
    "val_smoke = val['Smoking'].to_numpy()\n",
    "test_smoke = test['Smoking'].to_numpy()"
   ]
  },
  {
   "cell_type": "code",
   "execution_count": 35,
   "id": "extended-prize",
   "metadata": {},
   "outputs": [],
   "source": [
    "ex_test_smoke = ex_test['Smoking'].to_numpy()\n",
    "ex_val_smoke = ex_val['Smoking'].to_numpy()"
   ]
  },
  {
   "cell_type": "code",
   "execution_count": 36,
   "id": "excited-imaging",
   "metadata": {},
   "outputs": [],
   "source": [
    "train_ns = len(np.where(train_smoke == 0)[0])\n",
    "train_s = len(np.where(train_smoke == 1)[0])\n",
    "train_smoke_table = np.array([train_ns, train_s]).reshape(1, 2)"
   ]
  },
  {
   "cell_type": "code",
   "execution_count": 37,
   "id": "peripheral-aberdeen",
   "metadata": {},
   "outputs": [],
   "source": [
    "val_ns = len(np.where(val_smoke == 0)[0])\n",
    "val_s = len(np.where(val_smoke == 1)[0])\n",
    "val_smoke_table = np.array([val_ns, val_s]).reshape(1, 2)"
   ]
  },
  {
   "cell_type": "code",
   "execution_count": 38,
   "id": "sophisticated-economics",
   "metadata": {},
   "outputs": [],
   "source": [
    "test_ns = len(np.where(test_smoke == 0)[0])\n",
    "test_s = len(np.where(test_smoke == 1)[0])\n",
    "test_smoke_table = np.array([test_ns, test_s]).reshape(1, 2)"
   ]
  },
  {
   "cell_type": "code",
   "execution_count": 39,
   "id": "adult-sheffield",
   "metadata": {},
   "outputs": [],
   "source": [
    "ex_test_ns = len(np.where(ex_test_smoke == 0)[0])\n",
    "ex_test_s = len(np.where(ex_test_smoke == 1)[0])\n",
    "ex_test_smoke_table = np.array([ex_test_ns, ex_test_s]).reshape(1, 2)"
   ]
  },
  {
   "cell_type": "code",
   "execution_count": 40,
   "id": "wanted-bible",
   "metadata": {},
   "outputs": [],
   "source": [
    "ex_val_ns = len(np.where(ex_val_smoke == 0)[0])\n",
    "ex_val_s = len(np.where(ex_val_smoke == 1)[0])\n",
    "ex_val_smoke_table = np.array([ex_val_ns, ex_val_s]).reshape(1, 2)"
   ]
  },
  {
   "cell_type": "code",
   "execution_count": 43,
   "id": "suited-maria",
   "metadata": {},
   "outputs": [],
   "source": [
    "test_smoke_table = test_smoke_table + ex_val_smoke_table"
   ]
  },
  {
   "cell_type": "code",
   "execution_count": 44,
   "id": "skilled-geneva",
   "metadata": {},
   "outputs": [
    {
     "data": {
      "text/plain": [
       "array([[28, 18]])"
      ]
     },
     "execution_count": 44,
     "metadata": {},
     "output_type": "execute_result"
    }
   ],
   "source": [
    "test_smoke_table"
   ]
  },
  {
   "cell_type": "code",
   "execution_count": 45,
   "id": "decent-consistency",
   "metadata": {},
   "outputs": [],
   "source": [
    "smoke_table = np.concatenate([train_smoke_table, val_smoke_table, test_smoke_table, ex_test_smoke_table])"
   ]
  },
  {
   "cell_type": "code",
   "execution_count": 46,
   "id": "horizontal-carter",
   "metadata": {},
   "outputs": [
    {
     "data": {
      "text/plain": [
       "array([[76, 44],\n",
       "       [17,  6],\n",
       "       [28, 18],\n",
       "       [47, 17]])"
      ]
     },
     "execution_count": 46,
     "metadata": {},
     "output_type": "execute_result"
    }
   ],
   "source": [
    "smoke_table"
   ]
  },
  {
   "cell_type": "code",
   "execution_count": 47,
   "id": "failing-manitoba",
   "metadata": {},
   "outputs": [],
   "source": [
    "smoke_g, smoke_p, smoke_dof, smoke_expctd = chi2_contingency(smoke_table, lambda_=\"log-likelihood\")"
   ]
  },
  {
   "cell_type": "code",
   "execution_count": 48,
   "id": "opening-marker",
   "metadata": {},
   "outputs": [
    {
     "name": "stdout",
     "output_type": "stream",
     "text": [
      "SMOKE chi2_contigency test :  0.36178165558936465\n"
     ]
    }
   ],
   "source": [
    "print('SMOKE chi2_contigency test : ', smoke_p)"
   ]
  },
  {
   "cell_type": "markdown",
   "id": "minimal-perception",
   "metadata": {},
   "source": [
    "## EGFR chi2_contigency test"
   ]
  },
  {
   "cell_type": "code",
   "execution_count": 49,
   "id": "closing-mortgage",
   "metadata": {},
   "outputs": [],
   "source": [
    "train_label = train['EGFR'].to_numpy()\n",
    "val_label = val['EGFR'].to_numpy()\n",
    "test_label = test['EGFR'].to_numpy()"
   ]
  },
  {
   "cell_type": "code",
   "execution_count": 50,
   "id": "crucial-potato",
   "metadata": {},
   "outputs": [],
   "source": [
    "ex_val_label = ex_val['EGFR'].to_numpy()"
   ]
  },
  {
   "cell_type": "code",
   "execution_count": 51,
   "id": "unauthorized-sphere",
   "metadata": {},
   "outputs": [],
   "source": [
    "train_n = len(np.where(train_label == 0)[0])\n",
    "train_p = len(np.where(train_label == 1)[0])\n",
    "train_label_table = np.array([train_n, train_p]).reshape(1, 2)"
   ]
  },
  {
   "cell_type": "code",
   "execution_count": 52,
   "id": "ruled-appraisal",
   "metadata": {},
   "outputs": [],
   "source": [
    "val_n = len(np.where(val_label == 0)[0])\n",
    "val_p = len(np.where(val_label == 1)[0])\n",
    "val_label_table = np.array([val_n, val_p]).reshape(1, 2)"
   ]
  },
  {
   "cell_type": "code",
   "execution_count": 53,
   "id": "virgin-organ",
   "metadata": {},
   "outputs": [],
   "source": [
    "test_n = len(np.where(test_label == 0)[0])\n",
    "test_p = len(np.where(test_label == 1)[0])\n",
    "test_label_table = np.array([test_n, test_p]).reshape(1, 2)"
   ]
  },
  {
   "cell_type": "code",
   "execution_count": 54,
   "id": "crude-purchase",
   "metadata": {},
   "outputs": [],
   "source": [
    "ex_val_n = len(np.where(ex_val_label == 0)[0])\n",
    "ex_val_p = len(np.where(ex_val_label == 1)[0])\n",
    "ex_val_label_table = np.array([ex_val_n, ex_val_p]).reshape(1, 2)"
   ]
  },
  {
   "cell_type": "code",
   "execution_count": 55,
   "id": "fantastic-transportation",
   "metadata": {},
   "outputs": [],
   "source": [
    "test_label_table = test_label_table + ex_val_label_table"
   ]
  },
  {
   "cell_type": "code",
   "execution_count": null,
   "id": "reduced-double",
   "metadata": {},
   "outputs": [],
   "source": []
  },
  {
   "cell_type": "code",
   "execution_count": 57,
   "id": "collect-funds",
   "metadata": {},
   "outputs": [],
   "source": [
    "label_table = np.concatenate([train_label_table, val_label_table, test_label_table])"
   ]
  },
  {
   "cell_type": "code",
   "execution_count": 58,
   "id": "designing-jersey",
   "metadata": {},
   "outputs": [],
   "source": [
    "label_g, label_p, label_dof, label_expctd = chi2_contingency(label_table, lambda_=\"log-likelihood\")"
   ]
  },
  {
   "cell_type": "code",
   "execution_count": 59,
   "id": "moderate-namibia",
   "metadata": {},
   "outputs": [
    {
     "data": {
      "text/plain": [
       "array([[39, 81],\n",
       "       [ 8, 15],\n",
       "       [17, 29]])"
      ]
     },
     "execution_count": 59,
     "metadata": {},
     "output_type": "execute_result"
    }
   ],
   "source": [
    "label_table"
   ]
  },
  {
   "cell_type": "code",
   "execution_count": 60,
   "id": "international-municipality",
   "metadata": {},
   "outputs": [
    {
     "name": "stdout",
     "output_type": "stream",
     "text": [
      "LABEL chi2_contigency test :  0.85954851872517\n"
     ]
    }
   ],
   "source": [
    "print('LABEL chi2_contigency test : ', label_p)"
   ]
  },
  {
   "cell_type": "code",
   "execution_count": null,
   "id": "following-setup",
   "metadata": {},
   "outputs": [],
   "source": []
  }
 ],
 "metadata": {
  "kernelspec": {
   "display_name": "Python 3",
   "language": "python",
   "name": "python3"
  },
  "language_info": {
   "codemirror_mode": {
    "name": "ipython",
    "version": 3
   },
   "file_extension": ".py",
   "mimetype": "text/x-python",
   "name": "python",
   "nbconvert_exporter": "python",
   "pygments_lexer": "ipython3",
   "version": "3.7.10"
  }
 },
 "nbformat": 4,
 "nbformat_minor": 5
}
